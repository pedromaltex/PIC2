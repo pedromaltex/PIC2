{
 "cells": [
  {
   "cell_type": "code",
   "execution_count": null,
   "id": "7c297d25-253a-48ce-b09b-8c68e85f68cc",
   "metadata": {},
   "outputs": [],
   "source": [
    "import yfinance as yf\n",
    "import pandas as pd\n",
    "import seaborn as sns\n",
    "import matplotlib.pyplot as plt\n",
    "from datetime import datetime\n",
    "from yahooquery import Screener"
   ]
  },
  {
   "cell_type": "code",
   "execution_count": null,
   "id": "fef7a26d-ceea-4199-b7a3-fb88e5a31747",
   "metadata": {},
   "outputs": [],
   "source": [
    "sector_mapping2 = [\n",
    "        'basic_materials',\n",
    "        'communication_services',\n",
    "        'consumer_cyclical',\n",
    "        'consumer_defensive',\n",
    "        'energy',\n",
    "        'financial_services',\n",
    "        'healthcare',\n",
    "        'industrials',\n",
    "        'real_estate',\n",
    "        'technology',\n",
    "        'utilities']\n",
    "def get_companiesbysector(sector):  # Obtém 100 maiores empresas do determinado setor\n",
    "    sector_mapping = {\n",
    "        'basic_materials': 'ms_basic_materials',\n",
    "        'communication_services': 'ms_communication_services',\n",
    "        'consumer_cyclical': 'ms_consumer_cyclical',\n",
    "        'consumer_defensive': 'ms_consumer_defensive',\n",
    "        'energy': 'ms_energy',\n",
    "        'financial_services': 'ms_financial_services',\n",
    "        'healthcare': 'ms_healthcare',\n",
    "        'industrials': 'ms_industrials',\n",
    "        'real_estate': 'ms_real_estate',\n",
    "        'technology': 'ms_technology',\n",
    "        'utilities': 'ms_utilities'\n",
    "    }\n",
    "\n",
    "    if sector not in sector_mapping:\n",
    "        raise ValueError(f\"Setor inválido: {sector}. Escolha um dos seguintes: {list(sector_mapping.keys())}\")\n",
    "\n",
    "    screener_id = sector_mapping[sector]\n",
    "    screener = Screener()\n",
    "    data = screener.get_screeners(screener_id, count=100)\n",
    "\n",
    "    # Verifica se os dados retornaram corretamente\n",
    "    if screener_id not in data or 'quotes' not in data[screener_id]:\n",
    "        raise ValueError(f\"Não foi possível obter dados para o setor: {sector}\")\n",
    "\n",
    "    # Extraindo os símbolos das empresas\n",
    "    sector_tickers = [stock['symbol'] for stock in data[screener_id]['quotes']]\n",
    "    return sector_tickers"
   ]
  },
  {
   "cell_type": "code",
   "execution_count": null,
   "id": "47353bb5-c31e-4333-a79c-1105d9cce5c9",
   "metadata": {},
   "outputs": [],
   "source": [
    "# Função mãe\n",
    "def mae(dataset1, dataset2):\n",
    "\n",
    "    # Preencher dados ausentes com o último valor disponível\n",
    "    dataset1 = dataset1.fillna(1)\n",
    "    dataset2 = dataset2.fillna(1)\n",
    "\n",
    "\n",
    "    # Calcular as percentagens diárias\n",
    "    returns1 = dataset1.pct_change().dropna()\n",
    "    returns2 = dataset2.pct_change().dropna()\n",
    "\n",
    "\n",
    "    correlation_by_company = {}\n",
    "    for company1 in returns1.columns:\n",
    "        correlation_by_company[f'{company1}'] = {}\n",
    "        for company2 in returns2.columns:\n",
    "            merged_df = pd.concat([returns1[company1], returns2[company2]], axis=1)\n",
    "            correlation_by_company[f'{company1}'][f'{company2}'] = merged_df[company1].corr(merged_df[company2])\n",
    "\n",
    "\n",
    "    # Converter o dicionário de correlações em um DataFrame\n",
    "    correlation_df = pd.DataFrame.from_dict(correlation_by_company, orient='index')\n",
    "\n",
    "\n",
    "    # Gerar o heatmap\n",
    "    plt.figure(figsize=(40, 40))\n",
    "    sns.heatmap(correlation_df, annot=False, cmap='coolwarm', center=0, linewidths=0.5, cbar=True)\n",
    "\n",
    "    # Personalizar o gráfico\n",
    "    plt.title(f'Correlação Anual: Empresas do Setor {sector_mapping2[i]} vs. {sector_mapping2[j]}')\n",
    "    plt.xlabel('Ano')\n",
    "    plt.ylabel('Empresas')\n",
    "\n",
    "    plt.savefig(f\"{sector_mapping2[i]}_{sector_mapping2[j]}.png\", dpi=300, bbox_inches='tight')\n",
    "\n",
    "    # Exibir o gráfico\n",
    "    plt.show()"
   ]
  },
  {
   "cell_type": "code",
   "execution_count": null,
   "id": "20eb7612-9769-4f20-b9c8-98dcea5a7762",
   "metadata": {},
   "outputs": [],
   "source": [
    "# Baixar os dados usando Yahoo Finance\n",
    "def download_data(tickers, start, end):\n",
    "    return yf.download(tickers, start=start, end=end)['Close']\n",
    "\n",
    "# Baixar os dados históricos para as empresas dos setores indicados\n",
    "day, month, year = datetime.now().day, datetime.now().month, datetime.now().year\n",
    "start_date = f\"{year-40}-{month}-{day}\"  # 40 anos atrás\n",
    "end_date = f\"{year}-{month}-{day}\""
   ]
  },
  {
   "cell_type": "code",
   "execution_count": null,
   "id": "b008e4ec-f68d-42a5-a3d4-c6017a0dced8",
   "metadata": {},
   "outputs": [],
   "source": [
    "datasetpro = []\n",
    "for i in range(len(sector_mapping2)):\n",
    "    ticker_pro = get_companiesbysector(sector_mapping2[i])\n",
    "    datasetpro.append(download_data(ticker_pro, start_date, end_date))"
   ]
  },
  {
   "cell_type": "code",
   "execution_count": null,
   "id": "d7f37124-eb9b-426b-8a41-e0ce6a88ee40",
   "metadata": {},
   "outputs": [],
   "source": [
    "# %%\n",
    "\n",
    "for i in range(len(sector_mapping2)):\n",
    "    # Obtendo tickers dos setores desejados\n",
    "    dataset1 = datasetpro[i]\n",
    "    for j in range(len(sector_mapping2)):\n",
    "        if i != j:\n",
    "            dataset2 = datasetpro[j]\n",
    "            mae(dataset1, dataset2)"
   ]
  }
 ],
 "metadata": {
  "kernelspec": {
   "display_name": "Python 3 (ipykernel)",
   "language": "python",
   "name": "python3"
  },
  "language_info": {
   "codemirror_mode": {
    "name": "ipython",
    "version": 3
   },
   "file_extension": ".py",
   "mimetype": "text/x-python",
   "name": "python",
   "nbconvert_exporter": "python",
   "pygments_lexer": "ipython3",
   "version": "3.12.3"
  }
 },
 "nbformat": 4,
 "nbformat_minor": 2
}
